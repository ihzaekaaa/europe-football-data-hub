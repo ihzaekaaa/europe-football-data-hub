{
  "nbformat": 4,
  "nbformat_minor": 0,
  "metadata": {
    "colab": {
      "provenance": []
    },
    "kernelspec": {
      "name": "python3",
      "display_name": "Python 3"
    },
    "language_info": {
      "name": "python"
    }
  },
  "cells": [
    {
      "cell_type": "code",
      "execution_count": null,
      "metadata": {
        "id": "_2fq5IOq1oM9"
      },
      "outputs": [],
      "source": [
        "import pandas as pd"
      ]
    },
    {
      "cell_type": "code",
      "source": [
        "# Load all 5 league data\n",
        "\n",
        "df_bundesliga = pd.read_csv(\"/content/bundesliga_Outfield.csv\")\n",
        "df_epl = pd.read_csv(\"/content/epl_Outfield.csv\")\n",
        "df_laliga = pd.read_csv(\"/content/la_liga_Outfield.csv\")\n",
        "df_eredivisie = pd.read_csv(\"/content/eredivisie_Outfield.csv\")\n",
        "df_serie_a = pd.read_csv(\"/content/serie_a_Outfield.csv\")"
      ],
      "metadata": {
        "id": "Kpk_Hv5A2Cd3"
      },
      "execution_count": null,
      "outputs": []
    },
    {
      "cell_type": "code",
      "source": [
        "df_bundesliga.head()"
      ],
      "metadata": {
        "collapsed": true,
        "id": "kQ5tgoit2dkU"
      },
      "execution_count": null,
      "outputs": []
    },
    {
      "cell_type": "code",
      "source": [
        "df_epl.head()"
      ],
      "metadata": {
        "collapsed": true,
        "id": "WEsNQI2U2iH9"
      },
      "execution_count": null,
      "outputs": []
    },
    {
      "cell_type": "code",
      "source": [
        "df_eredivisie.head()"
      ],
      "metadata": {
        "collapsed": true,
        "id": "TsmM59KC2kOU"
      },
      "execution_count": null,
      "outputs": []
    },
    {
      "cell_type": "code",
      "source": [
        "df_laliga.head()"
      ],
      "metadata": {
        "collapsed": true,
        "id": "fEQ2RsZD2n6u"
      },
      "execution_count": null,
      "outputs": []
    },
    {
      "cell_type": "code",
      "source": [
        "df_serie_a.head()"
      ],
      "metadata": {
        "collapsed": true,
        "id": "VnOKsnga2tH6"
      },
      "execution_count": null,
      "outputs": []
    },
    {
      "cell_type": "code",
      "source": [
        "# Combining all 5 league data\n",
        "df_combined = pd.concat([df_bundesliga, df_epl, df_eredivisie, df_laliga, df_serie_a], ignore_index=True)"
      ],
      "metadata": {
        "id": "pE6RdTfc23dl"
      },
      "execution_count": null,
      "outputs": []
    },
    {
      "cell_type": "code",
      "source": [
        "df_combined.head()"
      ],
      "metadata": {
        "collapsed": true,
        "id": "PWlndaLn3Dl4"
      },
      "execution_count": null,
      "outputs": []
    },
    {
      "cell_type": "code",
      "source": [
        "df_combined.info()"
      ],
      "metadata": {
        "id": "XONtVlQ43FVs"
      },
      "execution_count": null,
      "outputs": []
    },
    {
      "cell_type": "code",
      "source": [
        "# Checking how many duplicated data\n",
        "df_combined.duplicated().sum()"
      ],
      "metadata": {
        "id": "CXTA2d743JRx",
        "collapsed": true
      },
      "execution_count": null,
      "outputs": []
    },
    {
      "cell_type": "code",
      "source": [
        "# Checking how many null data\n",
        "df_combined.isnull().sum()"
      ],
      "metadata": {
        "id": "dHn65xpK3Qf5",
        "collapsed": true
      },
      "execution_count": null,
      "outputs": []
    },
    {
      "cell_type": "code",
      "source": [
        "# Checking what columns are in the data\n",
        "print(*df_combined.columns)"
      ],
      "metadata": {
        "id": "5HM0K6Jo5y6k",
        "collapsed": true
      },
      "execution_count": null,
      "outputs": []
    },
    {
      "cell_type": "code",
      "source": [
        "# Save the combined data into csv\n",
        "df_combined.to_csv(\"fbref-data.csv\", index=False)"
      ],
      "metadata": {
        "id": "6a4ar8Tn3voH"
      },
      "execution_count": null,
      "outputs": []
    }
  ]
}